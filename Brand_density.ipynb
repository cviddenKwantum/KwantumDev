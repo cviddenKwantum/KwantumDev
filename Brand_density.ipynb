{
  "cells": [
    {
      "cell_type": "markdown",
      "metadata": {
        "id": "view-in-github",
        "colab_type": "text"
      },
      "source": [
        "<a href=\"https://colab.research.google.com/github/cviddenKwantum/KwantumDev/blob/main/Brand_density.ipynb\" target=\"_parent\"><img src=\"https://colab.research.google.com/assets/colab-badge.svg\" alt=\"Open In Colab\"/></a>"
      ]
    },
    {
      "cell_type": "markdown",
      "source": [
        "# Brand density\n",
        "- Chad Vidden, COO [Kwantum Analytics](https://www.kwantumanalytics.com/)\n",
        "- June 2023"
      ],
      "metadata": {
        "id": "QNVUpc-qWIXY"
      },
      "id": "QNVUpc-qWIXY"
    },
    {
      "cell_type": "markdown",
      "source": [
        "## Resources:\n",
        "- https://github.com/openai/openai-cookbook\n",
        "- https://github.com/eon01/awesome-chatgpt\n",
        "- https://github.com/openai/openai-cookbook/blob/main/examples/azure/chat.ipynb\n",
        "- https://github.com/taishi-i/awesome-ChatGPT-repositories"
      ],
      "metadata": {
        "id": "bbnAcv3lRiVj"
      },
      "id": "bbnAcv3lRiVj"
    },
    {
      "cell_type": "code",
      "source": [
        "#@title\n",
        "!pip install openai --quiet"
      ],
      "metadata": {
        "id": "x2Sg4567BT66",
        "colab": {
          "base_uri": "https://localhost:8080/"
        },
        "outputId": "c7b1b800-de50-4bd6-8b85-11955cff6eea"
      },
      "id": "x2Sg4567BT66",
      "execution_count": 1,
      "outputs": [
        {
          "output_type": "stream",
          "name": "stdout",
          "text": [
            "\u001b[2K     \u001b[90m━━━━━━━━━━━━━━━━━━━━━━━━━━━━━━━━━━━━━━━━\u001b[0m \u001b[32m72.0/72.0 kB\u001b[0m \u001b[31m3.0 MB/s\u001b[0m eta \u001b[36m0:00:00\u001b[0m\n",
            "\u001b[2K     \u001b[90m━━━━━━━━━━━━━━━━━━━━━━━━━━━━━━━━━━━━━━━━\u001b[0m \u001b[32m1.0/1.0 MB\u001b[0m \u001b[31m19.1 MB/s\u001b[0m eta \u001b[36m0:00:00\u001b[0m\n",
            "\u001b[2K     \u001b[90m━━━━━━━━━━━━━━━━━━━━━━━━━━━━━━━━━━━━━━\u001b[0m \u001b[32m114.5/114.5 kB\u001b[0m \u001b[31m10.7 MB/s\u001b[0m eta \u001b[36m0:00:00\u001b[0m\n",
            "\u001b[2K     \u001b[90m━━━━━━━━━━━━━━━━━━━━━━━━━━━━━━━━━━━━━━\u001b[0m \u001b[32m268.8/268.8 kB\u001b[0m \u001b[31m16.5 MB/s\u001b[0m eta \u001b[36m0:00:00\u001b[0m\n",
            "\u001b[2K     \u001b[90m━━━━━━━━━━━━━━━━━━━━━━━━━━━━━━━━━━━━━━\u001b[0m \u001b[32m149.6/149.6 kB\u001b[0m \u001b[31m11.3 MB/s\u001b[0m eta \u001b[36m0:00:00\u001b[0m\n",
            "\u001b[?25h"
          ]
        }
      ]
    },
    {
      "cell_type": "code",
      "source": [
        "!pip install tiktoken --quiet"
      ],
      "metadata": {
        "colab": {
          "base_uri": "https://localhost:8080/"
        },
        "id": "b032c2HIb1QB",
        "outputId": "56256e39-b43f-4974-81c4-6e29eab5f674"
      },
      "id": "b032c2HIb1QB",
      "execution_count": 2,
      "outputs": [
        {
          "output_type": "stream",
          "name": "stdout",
          "text": [
            "\u001b[?25l     \u001b[90m━━━━━━━━━━━━━━━━━━━━━━━━━━━━━━━━━━━━━━━━\u001b[0m \u001b[32m0.0/1.7 MB\u001b[0m \u001b[31m?\u001b[0m eta \u001b[36m-:--:--\u001b[0m\r\u001b[2K     \u001b[91m━━━━\u001b[0m\u001b[90m╺\u001b[0m\u001b[90m━━━━━━━━━━━━━━━━━━━━━━━━━━━━━━━━━━━\u001b[0m \u001b[32m0.2/1.7 MB\u001b[0m \u001b[31m6.1 MB/s\u001b[0m eta \u001b[36m0:00:01\u001b[0m\r\u001b[2K     \u001b[91m━━━━━━━━━━━━━━━━━━━━━━━━━━━━━━━\u001b[0m\u001b[90m╺\u001b[0m\u001b[90m━━━━━━━━\u001b[0m \u001b[32m1.4/1.7 MB\u001b[0m \u001b[31m20.6 MB/s\u001b[0m eta \u001b[36m0:00:01\u001b[0m\r\u001b[2K     \u001b[90m━━━━━━━━━━━━━━━━━━━━━━━━━━━━━━━━━━━━━━━━\u001b[0m \u001b[32m1.7/1.7 MB\u001b[0m \u001b[31m17.8 MB/s\u001b[0m eta \u001b[36m0:00:00\u001b[0m\n",
            "\u001b[?25h"
          ]
        }
      ]
    },
    {
      "cell_type": "code",
      "execution_count": 16,
      "id": "402368db",
      "metadata": {
        "id": "402368db",
        "colab": {
          "base_uri": "https://localhost:8080/"
        },
        "outputId": "823106b3-7b44-48af-f3d1-1cfa34c95c6f"
      },
      "outputs": [
        {
          "output_type": "stream",
          "name": "stdout",
          "text": [
            "Drive already mounted at /content/drive; to attempt to forcibly remount, call drive.mount(\"/content/drive\", force_remount=True).\n"
          ]
        }
      ],
      "source": [
        "#@title\n",
        "import openai\n",
        "import pandas as pd\n",
        "from io import StringIO\n",
        "import pickle\n",
        "from IPython.core.display import HTML\n",
        "import re\n",
        "import time\n",
        "import os\n",
        "from openai.embeddings_utils import get_embedding\n",
        "import tiktoken\n",
        "from sklearn.manifold import TSNE\n",
        "import numpy as np\n",
        "import random\n",
        "from google.colab import drive\n",
        "import json\n",
        "from datetime import datetime\n",
        "\n",
        "drive.mount('/content/drive')\n",
        "\n",
        "with open('/content/drive/MyDrive/GPT_SECRET_KEY.json') as f:\n",
        "    data = json.load(f)\n",
        "openai.api_key = data[\"API_KEY\"]"
      ]
    },
    {
      "cell_type": "code",
      "source": [
        "# helper functions\n",
        "def get_completion_chat(messages, temp, model=\"gpt-3.5-turbo\"):\n",
        "    while True:\n",
        "        try:\n",
        "            response = openai.ChatCompletion.create(\n",
        "              model=model,\n",
        "              messages=messages,\n",
        "              temperature=temp, # this is the degree of randomness of the model's output\n",
        "              )\n",
        "            return response.choices[0].message[\"content\"]\n",
        "        except openai.error.RateLimitError as error:\n",
        "              print('Server overloaded. Retrying in 5 seconds...')\n",
        "              time.sleep(5)\n",
        "              get_completion(prompt)\n",
        "\n",
        "def get_completion(prompt, max_length = 3500, model=\"text-davinci-003\"):\n",
        "    while True:\n",
        "        try:\n",
        "            response = openai.Completion.create(\n",
        "                model=model,\n",
        "                prompt=prompt,\n",
        "                temperature=0.7,\n",
        "                max_tokens=max_length,\n",
        "                top_p=1,\n",
        "                frequency_penalty=0,\n",
        "                presence_penalty=0)\n",
        "            return response.get('choices',[])[0]['text']\n",
        "        except openai.error.RateLimitError as error:\n",
        "              print('Server overloaded. Retrying in 5 seconds...')\n",
        "              time.sleep(5)\n",
        "              get_completion(prompt)\n",
        "\n",
        "def makelist(input_string):\n",
        "  pattern = r'- (.+)'\n",
        "  matches = re.findall(pattern, input_string)\n",
        "  bullet_list = list(matches)\n",
        "  return bullet_list"
      ],
      "metadata": {
        "id": "6y0NdOhO7xke"
      },
      "id": "6y0NdOhO7xke",
      "execution_count": 4,
      "outputs": []
    },
    {
      "cell_type": "markdown",
      "source": [
        "### Step 1:  Category description\n",
        "\n",
        "Run a loop a few times to pick up a variety of words or phrases to describe the category to get as exhaustive list ~ 70-100"
      ],
      "metadata": {
        "id": "kOdfAeyCVWl5"
      },
      "id": "kOdfAeyCVWl5"
    },
    {
      "cell_type": "code",
      "execution_count": 9,
      "id": "6e810608",
      "metadata": {
        "id": "6e810608"
      },
      "outputs": [],
      "source": [
        "prompt1 = f\"\"\"What words, attributes, companies, or phrases come to mind when \\\n",
        "you think of the talent acquisition or hiring category? Please list everything \\\n",
        "that comes to mind. Let's make sure your to understand answer is as exhaustive \\\n",
        "as possible.\"\"\""
      ]
    },
    {
      "cell_type": "code",
      "execution_count": 10,
      "id": "e02c6c82",
      "metadata": {
        "colab": {
          "base_uri": "https://localhost:8080/"
        },
        "id": "e02c6c82",
        "outputId": "a8b36e25-f967-4d7a-df12-1e5b28cd0bee"
      },
      "outputs": [
        {
          "output_type": "stream",
          "name": "stdout",
          "text": [
            "Sure, here are some words, attributes, companies, and phrases that come to mind when I think of the talent acquisition or hiring category:\n",
            "\n",
            "- Recruitment\n",
            "- Job search\n",
            "- Candidate sourcing\n",
            "- Applicant tracking systems (ATS)\n",
            "- Job boards\n",
            "- Staffing agencies\n",
            "- Human resources (HR)\n",
            "- Hiring managers\n",
            "- Interviews\n",
            "- Resumes/CVs\n",
            "- Job descriptions\n",
            "- Employer branding\n",
            "- Diversity and inclusion\n",
            "- Talent management\n",
            "- Employee retention\n",
            "- Onboarding\n",
            "- LinkedIn\n",
            "- Glassdoor\n",
            "- Indeed\n",
            "- Monster\n",
            "- ZipRecruiter\n",
            "- CareerBuilder\n",
            "- Hired\n",
            "- Workable\n",
            "- Greenhouse\n",
            "- Lever\n",
            "- Jobvite\n",
            "- ATS integrations\n",
            "- Recruitment marketing\n",
            "- Employee referrals\n",
            "- Background checks\n",
            "- Pre-employment assessments\n",
            "- Job fairs\n",
            "- Networking events\n",
            "- Salary negotiations\n",
            "- Remote hiring\n",
            "- Freelance hiring\n",
            "- Gig economy\n",
            "- Employer of choice\n",
            "- Talent pipeline\n",
            "- Recruitment metrics\n",
            "- Talent acquisition strategy\n",
            "- Employer-employee relationship\n",
            "- Job satisfaction\n",
            "- Employee engagement\n",
            "- Succession planning\n",
            "- Workforce planning\n",
            "- Talent acquisition technology\n",
            "- Recruitment automation\n",
            "- Recruitment chatbots\n",
            "- Recruitment analytics\n",
            "- Recruitment CRM\n",
            "- Recruitment AI\n",
            "- Recruitment data privacy and security.\n"
          ]
        }
      ],
      "source": [
        "messages = [{\"role\": \"system\", \"content\": \"you are an AI assistant who helps a \\\n",
        "human to understand what the associations are with a category.\"},\n",
        "            {\"role\": \"user\", \"content\": prompt1}]\n",
        "res = get_completion_chat(messages, 0.15)\n",
        "messages.append({\"role\": \"assistant\", \"content\": res})\n",
        "print(res)"
      ]
    },
    {
      "cell_type": "code",
      "source": [
        "res1list = makelist(res)\n",
        "print(res1list)\n",
        "print(len(res1list))"
      ],
      "metadata": {
        "colab": {
          "base_uri": "https://localhost:8080/"
        },
        "id": "La7qDBKbay0h",
        "outputId": "0722584b-ad7c-49b6-8332-7c81cfce5f6b"
      },
      "id": "La7qDBKbay0h",
      "execution_count": 11,
      "outputs": [
        {
          "output_type": "stream",
          "name": "stdout",
          "text": [
            "['Recruitment', 'Job search', 'Candidate sourcing', 'Applicant tracking systems (ATS)', 'Job boards', 'Staffing agencies', 'Human resources (HR)', 'Hiring managers', 'Interviews', 'Resumes/CVs', 'Job descriptions', 'Employer branding', 'Diversity and inclusion', 'Talent management', 'Employee retention', 'Onboarding', 'LinkedIn', 'Glassdoor', 'Indeed', 'Monster', 'ZipRecruiter', 'CareerBuilder', 'Hired', 'Workable', 'Greenhouse', 'Lever', 'Jobvite', 'ATS integrations', 'Recruitment marketing', 'Employee referrals', 'Background checks', 'Pre-employment assessments', 'Job fairs', 'Networking events', 'Salary negotiations', 'Remote hiring', 'Freelance hiring', 'Gig economy', 'Employer of choice', 'Talent pipeline', 'Recruitment metrics', 'Talent acquisition strategy', 'Employer-employee relationship', 'Job satisfaction', 'Employee engagement', 'Succession planning', 'Workforce planning', 'Talent acquisition technology', 'Recruitment automation', 'Recruitment chatbots', 'Recruitment analytics', 'Recruitment CRM', 'Recruitment AI', 'Recruitment data privacy and security.']\n",
            "54\n"
          ]
        }
      ]
    },
    {
      "cell_type": "code",
      "source": [
        "prompt2 = f\"\"\"What are some words, attributes, companies, or phrases missing \\\n",
        "from the list? Let's try and be as exhaustive as possible, but focus on what \\\n",
        "is top of mind.\"\"\""
      ],
      "metadata": {
        "id": "-NQg9mD2U-yt"
      },
      "id": "-NQg9mD2U-yt",
      "execution_count": 12,
      "outputs": []
    },
    {
      "cell_type": "code",
      "source": [
        "messages.append({\"role\": \"user\", \"content\": prompt2})\n",
        "res = get_completion_chat(messages, 0.15)\n",
        "messages.append({\"role\": \"assistant\", \"content\": res})\n",
        "print(res)"
      ],
      "metadata": {
        "colab": {
          "base_uri": "https://localhost:8080/"
        },
        "id": "0y6c0wOmVQFA",
        "outputId": "cf4a71b3-ba5d-41f5-8c26-579afcb2481d"
      },
      "id": "0y6c0wOmVQFA",
      "execution_count": 13,
      "outputs": [
        {
          "output_type": "stream",
          "name": "stdout",
          "text": [
            "Here are some additional words, attributes, companies, or phrases that come to mind:\n",
            "\n",
            "- Job market\n",
            "- Talent shortage\n",
            "- Skills gap\n",
            "- Employer value proposition (EVP)\n",
            "- Candidate experience\n",
            "- Employer reviews\n",
            "- Social media recruiting\n",
            "- Employee referrals\n",
            "- Diversity recruiting\n",
            "- Inclusive hiring\n",
            "- Campus recruiting\n",
            "- Internship programs\n",
            "- Employee benefits\n",
            "- Compensation packages\n",
            "- Job offer letters\n",
            "- Background screening\n",
            "- Drug testing\n",
            "- Reference checks\n",
            "- Job analysis\n",
            "- Job evaluation\n",
            "- Job design\n",
            "- Job posting\n",
            "- Job fair\n",
            "- Recruitment process outsourcing (RPO)\n",
            "- Recruitment advertising\n",
            "- Recruitment events\n",
            "- Recruitment budget\n",
            "- Recruitment funnel\n",
            "- Recruitment metrics\n",
            "- Recruitment ROI\n",
            "- Recruitment software\n",
            "- Recruitment training\n",
            "- Recruitment trends\n",
            "- Recruitment challenges\n",
            "- Recruitment best practices\n",
            "- Recruitment strategies\n",
            "- Recruitment branding\n",
            "- Recruitment communication\n",
            "- Recruitment conversion rate\n",
            "- Recruitment conversion funnel\n",
            "- Recruitment conversion optimization\n",
            "- Recruitment conversion tracking\n",
            "- Recruitment conversion analysis\n",
            "- Recruitment conversion testing\n",
            "- Recruitment conversion improvement\n",
            "- Recruitment conversion rate optimization\n",
            "- Recruitment conversion rate improvement\n",
            "- Recruitment conversion rate tracking\n",
            "- Recruitment conversion rate analysis\n",
            "- Recruitment conversion rate testing\n",
            "- Recruitment conversion rate improvement\n",
            "- Recruitment conversion rate optimization.\n"
          ]
        }
      ]
    },
    {
      "cell_type": "code",
      "source": [
        "res2list = makelist(res)\n",
        "print(res2list)\n",
        "print(len(res2list))"
      ],
      "metadata": {
        "colab": {
          "base_uri": "https://localhost:8080/"
        },
        "id": "8mE5LVkNZTg6",
        "outputId": "6d60dca8-cb05-44aa-ac5d-5a6bc5572cb2"
      },
      "id": "8mE5LVkNZTg6",
      "execution_count": 14,
      "outputs": [
        {
          "output_type": "stream",
          "name": "stdout",
          "text": [
            "['Job market', 'Talent shortage', 'Skills gap', 'Employer value proposition (EVP)', 'Candidate experience', 'Employer reviews', 'Social media recruiting', 'Employee referrals', 'Diversity recruiting', 'Inclusive hiring', 'Campus recruiting', 'Internship programs', 'Employee benefits', 'Compensation packages', 'Job offer letters', 'Background screening', 'Drug testing', 'Reference checks', 'Job analysis', 'Job evaluation', 'Job design', 'Job posting', 'Job fair', 'Recruitment process outsourcing (RPO)', 'Recruitment advertising', 'Recruitment events', 'Recruitment budget', 'Recruitment funnel', 'Recruitment metrics', 'Recruitment ROI', 'Recruitment software', 'Recruitment training', 'Recruitment trends', 'Recruitment challenges', 'Recruitment best practices', 'Recruitment strategies', 'Recruitment branding', 'Recruitment communication', 'Recruitment conversion rate', 'Recruitment conversion funnel', 'Recruitment conversion optimization', 'Recruitment conversion tracking', 'Recruitment conversion analysis', 'Recruitment conversion testing', 'Recruitment conversion improvement', 'Recruitment conversion rate optimization', 'Recruitment conversion rate improvement', 'Recruitment conversion rate tracking', 'Recruitment conversion rate analysis', 'Recruitment conversion rate testing', 'Recruitment conversion rate improvement', 'Recruitment conversion rate optimization.']\n",
            "52\n"
          ]
        }
      ]
    },
    {
      "cell_type": "code",
      "source": [
        "joined_list = list(set(res1list + res2list)) # keep unique words/phrases\n",
        "print(joined_list)\n",
        "print(len(joined_list))"
      ],
      "metadata": {
        "colab": {
          "base_uri": "https://localhost:8080/"
        },
        "id": "L32PqaKCcIGO",
        "outputId": "6d62173b-9d16-437e-c90c-52baa6ebd85e"
      },
      "id": "L32PqaKCcIGO",
      "execution_count": 15,
      "outputs": [
        {
          "output_type": "stream",
          "name": "stdout",
          "text": [
            "['LinkedIn', 'Job descriptions', 'Recruitment conversion funnel', 'Recruitment branding', 'Recruitment conversion improvement', 'Networking events', 'Recruitment conversion rate optimization', 'Talent management', 'Recruitment chatbots', 'Greenhouse', 'Job market', 'Job fair', 'Job analysis', 'Recruitment metrics', 'Employer of choice', 'Job fairs', 'Hiring managers', 'Recruitment training', 'Recruitment process outsourcing (RPO)', 'Reference checks', 'Inclusive hiring', 'Job boards', 'Recruitment conversion rate optimization.', 'Recruitment best practices', 'Employer-employee relationship', 'Recruitment automation', 'Internship programs', 'Succession planning', 'Applicant tracking systems (ATS)', 'Diversity and inclusion', 'Talent acquisition strategy', 'Background screening', 'Recruitment events', 'Recruitment conversion rate analysis', 'Job offer letters', 'Recruitment trends', 'Resumes/CVs', 'Employee engagement', 'Campus recruiting', 'Recruitment conversion testing', 'Recruitment CRM', 'Drug testing', 'Pre-employment assessments', 'Recruitment challenges', 'CareerBuilder', 'Recruitment', 'Job design', 'Candidate experience', 'Compensation packages', 'Recruitment conversion optimization', 'Recruitment conversion tracking', 'Social media recruiting', 'Freelance hiring', 'Employee benefits', 'Talent pipeline', 'Job satisfaction', 'Recruitment conversion rate testing', 'Recruitment analytics', 'Glassdoor', 'Recruitment data privacy and security.', 'Recruitment funnel', 'Job evaluation', 'Onboarding', 'Recruitment conversion rate improvement', 'Recruitment strategies', 'ZipRecruiter', 'Salary negotiations', 'Recruitment budget', 'Recruitment AI', 'Monster', 'Diversity recruiting', 'Job posting', 'Workforce planning', 'Workable', 'Recruitment ROI', 'Recruitment software', 'Employee referrals', 'Job search', 'Employee retention', 'Jobvite', 'ATS integrations', 'Candidate sourcing', 'Background checks', 'Hired', 'Staffing agencies', 'Employer reviews', 'Recruitment advertising', 'Employer value proposition (EVP)', 'Remote hiring', 'Indeed', 'Talent acquisition technology', 'Recruitment communication', 'Interviews', 'Gig economy', 'Skills gap', 'Lever', 'Recruitment conversion analysis', 'Employer branding', 'Recruitment marketing', 'Talent shortage', 'Human resources (HR)', 'Recruitment conversion rate tracking', 'Recruitment conversion rate']\n",
            "103\n"
          ]
        }
      ]
    },
    {
      "cell_type": "markdown",
      "source": [
        "### Step 2: Refine list\n",
        "\n",
        "Remove overlap from Step 1 list."
      ],
      "metadata": {
        "id": "PJsZ77LQV0wN"
      },
      "id": "PJsZ77LQV0wN"
    },
    {
      "cell_type": "code",
      "execution_count": 16,
      "id": "2c21d25b",
      "metadata": {
        "id": "2c21d25b"
      },
      "outputs": [],
      "source": [
        "prompt4 = f\"\"\"Review the list of words and phrases that people associate with the  \\\n",
        "talent acquisition or hiring category and remove the one that are similar \\\n",
        "so we reduce overlap.\n",
        "\n",
        "LIST OF WORDS: {joined_list}\"\"\""
      ]
    },
    {
      "cell_type": "code",
      "source": [
        "messages = [{\"role\": \"system\", \"content\": \"you are an AI assistant who helps a \\\n",
        "human to understand what the associations are with a category.\"},\n",
        "            {\"role\": \"user\", \"content\": prompt4}]\n",
        "res = get_completion_chat(messages, .15)\n",
        "messages.append({\"role\": \"assistant\", \"content\": res})\n",
        "print(res)"
      ],
      "metadata": {
        "colab": {
          "base_uri": "https://localhost:8080/"
        },
        "id": "7jUItzbOTJsh",
        "outputId": "c3856f40-1496-4a87-eb5d-493001f0cc75"
      },
      "id": "7jUItzbOTJsh",
      "execution_count": 17,
      "outputs": [
        {
          "output_type": "stream",
          "name": "stdout",
          "text": [
            "Here is the list of words and phrases with similar meanings that can be removed to reduce overlap:\n",
            "\n",
            "- Job fair and Job fairs\n",
            "- Recruitment conversion rate optimization and Recruitment conversion rate improvement\n",
            "- Recruitment conversion rate testing and Recruitment conversion testing\n",
            "- Recruitment conversion rate tracking and Recruitment conversion tracking\n",
            "- Recruitment conversion analysis and Recruitment conversion rate analysis\n",
            "\n",
            "The revised list of words and phrases associated with the talent acquisition or hiring category is:\n",
            "\n",
            "- LinkedIn\n",
            "- Job descriptions\n",
            "- Recruitment conversion funnel\n",
            "- Recruitment branding\n",
            "- Networking events\n",
            "- Talent management\n",
            "- Recruitment chatbots\n",
            "- Greenhouse\n",
            "- Job market\n",
            "- Recruitment metrics\n",
            "- Employer of choice\n",
            "- Hiring managers\n",
            "- Recruitment training\n",
            "- Recruitment process outsourcing (RPO)\n",
            "- Reference checks\n",
            "- Inclusive hiring\n",
            "- Job boards\n",
            "- Recruitment best practices\n",
            "- Employer-employee relationship\n",
            "- Recruitment automation\n",
            "- Internship programs\n",
            "- Succession planning\n",
            "- Applicant tracking systems (ATS)\n",
            "- Diversity and inclusion\n",
            "- Talent acquisition strategy\n",
            "- Background screening\n",
            "- Recruitment events\n",
            "- Job offer letters\n",
            "- Recruitment trends\n",
            "- Resumes/CVs\n",
            "- Employee engagement\n",
            "- Campus recruiting\n",
            "- Recruitment CRM\n",
            "- Drug testing\n",
            "- Pre-employment assessments\n",
            "- Recruitment challenges\n",
            "- CareerBuilder\n",
            "- Job design\n",
            "- Candidate experience\n",
            "- Compensation packages\n",
            "- Recruitment conversion optimization\n",
            "- Social media recruiting\n",
            "- Freelance hiring\n",
            "- Employee benefits\n",
            "- Talent pipeline\n",
            "- Job satisfaction\n",
            "- Recruitment analytics\n",
            "- Glassdoor\n",
            "- Recruitment data privacy and security\n",
            "- Recruitment funnel\n",
            "- Job evaluation\n",
            "- Onboarding\n",
            "- Recruitment strategies\n",
            "- ZipRecruiter\n",
            "- Salary negotiations\n",
            "- Recruitment budget\n",
            "- Recruitment AI\n",
            "- Monster\n",
            "- Diversity recruiting\n",
            "- Job posting\n",
            "- Workforce planning\n",
            "- Workable\n",
            "- Recruitment ROI\n",
            "- Recruitment software\n",
            "- Employee referrals\n",
            "- Job search\n",
            "- Employee retention\n",
            "- Jobvite\n",
            "- ATS integrations\n",
            "- Candidate sourcing\n",
            "- Background checks\n",
            "- Hired\n",
            "- Staffing agencies\n",
            "- Employer reviews\n",
            "- Recruitment advertising\n",
            "- Employer value proposition (EVP)\n",
            "- Remote hiring\n",
            "- Indeed\n",
            "- Talent acquisition technology\n",
            "- Recruitment communication\n",
            "- Interviews\n",
            "- Gig economy\n",
            "- Skills gap\n",
            "- Lever\n",
            "- Employer branding\n",
            "- Recruitment marketing\n",
            "- Talent shortage\n",
            "- Human resources (HR)\n",
            "- Recruitment conversion rate\n"
          ]
        }
      ]
    },
    {
      "cell_type": "code",
      "source": [
        "res3list = makelist(res)\n",
        "print(res3list)\n",
        "print(len(res3list))"
      ],
      "metadata": {
        "colab": {
          "base_uri": "https://localhost:8080/"
        },
        "id": "xSVbkSHqdn9c",
        "outputId": "616eedbd-a1a0-445f-faf8-1a51eead11c2"
      },
      "id": "xSVbkSHqdn9c",
      "execution_count": 18,
      "outputs": [
        {
          "output_type": "stream",
          "name": "stdout",
          "text": [
            "['Job fair and Job fairs', 'Recruitment conversion rate optimization and Recruitment conversion rate improvement', 'Recruitment conversion rate testing and Recruitment conversion testing', 'Recruitment conversion rate tracking and Recruitment conversion tracking', 'Recruitment conversion analysis and Recruitment conversion rate analysis', 'LinkedIn', 'Job descriptions', 'Recruitment conversion funnel', 'Recruitment branding', 'Networking events', 'Talent management', 'Recruitment chatbots', 'Greenhouse', 'Job market', 'Recruitment metrics', 'Employer of choice', 'Hiring managers', 'Recruitment training', 'Recruitment process outsourcing (RPO)', 'Reference checks', 'Inclusive hiring', 'Job boards', 'Recruitment best practices', 'Employer-employee relationship', 'Recruitment automation', 'Internship programs', 'Succession planning', 'Applicant tracking systems (ATS)', 'Diversity and inclusion', 'Talent acquisition strategy', 'Background screening', 'Recruitment events', 'Job offer letters', 'Recruitment trends', 'Resumes/CVs', 'Employee engagement', 'Campus recruiting', 'Recruitment CRM', 'Drug testing', 'Pre-employment assessments', 'Recruitment challenges', 'CareerBuilder', 'Job design', 'Candidate experience', 'Compensation packages', 'Recruitment conversion optimization', 'Social media recruiting', 'Freelance hiring', 'Employee benefits', 'Talent pipeline', 'Job satisfaction', 'Recruitment analytics', 'Glassdoor', 'Recruitment data privacy and security', 'Recruitment funnel', 'Job evaluation', 'Onboarding', 'Recruitment strategies', 'ZipRecruiter', 'Salary negotiations', 'Recruitment budget', 'Recruitment AI', 'Monster', 'Diversity recruiting', 'Job posting', 'Workforce planning', 'Workable', 'Recruitment ROI', 'Recruitment software', 'Employee referrals', 'Job search', 'Employee retention', 'Jobvite', 'ATS integrations', 'Candidate sourcing', 'Background checks', 'Hired', 'Staffing agencies', 'Employer reviews', 'Recruitment advertising', 'Employer value proposition (EVP)', 'Remote hiring', 'Indeed', 'Talent acquisition technology', 'Recruitment communication', 'Interviews', 'Gig economy', 'Skills gap', 'Lever', 'Employer branding', 'Recruitment marketing', 'Talent shortage', 'Human resources (HR)', 'Recruitment conversion rate']\n",
            "94\n"
          ]
        }
      ]
    },
    {
      "cell_type": "code",
      "source": [
        "with open(\"/content/drive/MyDrive/Colab Notebooks/catList.pkl\", \"wb\") as file:\n",
        "  pickle.dump(res3list, file)"
      ],
      "metadata": {
        "id": "q8vzkkiMedwc"
      },
      "id": "q8vzkkiMedwc",
      "execution_count": 19,
      "outputs": []
    },
    {
      "cell_type": "code",
      "source": [
        "with open(\"/content/drive/MyDrive/Colab Notebooks/catList.pkl\", \"rb\") as file:\n",
        "    catList = pickle.load(file)\n",
        "\n",
        "print(catList)\n",
        "print(len(catList))"
      ],
      "metadata": {
        "colab": {
          "base_uri": "https://localhost:8080/"
        },
        "id": "pzZFthDEey7c",
        "outputId": "8e32cda3-b771-4871-c1d1-5a0f66a82b65"
      },
      "id": "pzZFthDEey7c",
      "execution_count": 5,
      "outputs": [
        {
          "output_type": "stream",
          "name": "stdout",
          "text": [
            "['Job fair and Job fairs', 'Recruitment conversion rate optimization and Recruitment conversion rate improvement', 'Recruitment conversion rate testing and Recruitment conversion testing', 'Recruitment conversion rate tracking and Recruitment conversion tracking', 'Recruitment conversion analysis and Recruitment conversion rate analysis', 'LinkedIn', 'Job descriptions', 'Recruitment conversion funnel', 'Recruitment branding', 'Networking events', 'Talent management', 'Recruitment chatbots', 'Greenhouse', 'Job market', 'Recruitment metrics', 'Employer of choice', 'Hiring managers', 'Recruitment training', 'Recruitment process outsourcing (RPO)', 'Reference checks', 'Inclusive hiring', 'Job boards', 'Recruitment best practices', 'Employer-employee relationship', 'Recruitment automation', 'Internship programs', 'Succession planning', 'Applicant tracking systems (ATS)', 'Diversity and inclusion', 'Talent acquisition strategy', 'Background screening', 'Recruitment events', 'Job offer letters', 'Recruitment trends', 'Resumes/CVs', 'Employee engagement', 'Campus recruiting', 'Recruitment CRM', 'Drug testing', 'Pre-employment assessments', 'Recruitment challenges', 'CareerBuilder', 'Job design', 'Candidate experience', 'Compensation packages', 'Recruitment conversion optimization', 'Social media recruiting', 'Freelance hiring', 'Employee benefits', 'Talent pipeline', 'Job satisfaction', 'Recruitment analytics', 'Glassdoor', 'Recruitment data privacy and security', 'Recruitment funnel', 'Job evaluation', 'Onboarding', 'Recruitment strategies', 'ZipRecruiter', 'Salary negotiations', 'Recruitment budget', 'Recruitment AI', 'Monster', 'Diversity recruiting', 'Job posting', 'Workforce planning', 'Workable', 'Recruitment ROI', 'Recruitment software', 'Employee referrals', 'Job search', 'Employee retention', 'Jobvite', 'ATS integrations', 'Candidate sourcing', 'Background checks', 'Hired', 'Staffing agencies', 'Employer reviews', 'Recruitment advertising', 'Employer value proposition (EVP)', 'Remote hiring', 'Indeed', 'Talent acquisition technology', 'Recruitment communication', 'Interviews', 'Gig economy', 'Skills gap', 'Lever', 'Employer branding', 'Recruitment marketing', 'Talent shortage', 'Human resources (HR)', 'Recruitment conversion rate']\n",
            "94\n"
          ]
        }
      ]
    },
    {
      "cell_type": "markdown",
      "source": [
        "## Step 3: Rank associations by frequency"
      ],
      "metadata": {
        "id": "tVP5wT0bWEM2"
      },
      "id": "tVP5wT0bWEM2"
    },
    {
      "cell_type": "code",
      "source": [
        "prompt5 = f\"\"\" Review the list of words and phrases below that describe the \\\n",
        "talent acquisition or hiring category and rank them from highest to lowest by\\\n",
        "frequency of customer mention. Please estimate the proportion of mentions and \\\n",
        "add in parentheses. Let's try and provide the best estimate possible. Give \\ \n",
        "exact proprtions of customer mentions for each category.\n",
        "\n",
        "LIST OF WORDS AND PHRASES: {catList}\n",
        "\n",
        "OUTPUT FORMAT: \n",
        "1. Phrase1 (mention proportion %)\n",
        "2. Prase2 (mention proportion %)\n",
        "etc\n",
        "\"\"\""
      ],
      "metadata": {
        "id": "u3zzcHxYfVju"
      },
      "id": "u3zzcHxYfVju",
      "execution_count": 44,
      "outputs": []
    },
    {
      "cell_type": "code",
      "source": [
        "for i in range(2):\n",
        "\n",
        "  print(i)\n",
        "\n",
        "  messages = [{\"role\": \"system\", \"content\": \"you are an AI assistant who helps a \\\n",
        "  human to understand what the associations are with a category.\"},\n",
        "              {\"role\": \"user\", \"content\": prompt5}]\n",
        "  res = get_completion_chat(messages, .15)\n",
        "  messages.append({\"role\": \"assistant\", \"content\": res})\n",
        "\n",
        "  # parse result as dataframe\n",
        "  pattern = r'\\d+\\.\\s+(.+)'\n",
        "  matches = re.findall(pattern, res, re.MULTILINE)\n",
        "  parsed_list = [item.strip() for item in matches]\n",
        "\n",
        "  pattern = r'(.+)\\s+\\((\\d+%)\\)'\n",
        "  parsed_data = [re.match(pattern, item) for item in parsed_list]\n",
        "\n",
        "  categories = [match.group(1) for match in parsed_data]\n",
        "  mention_proportions = [match.group(2) for match in parsed_data]\n",
        "\n",
        "  df = pd.DataFrame({'category': categories, 'mention proportion str': mention_proportions})\n",
        "  df['mention proportion'] = df['mention proportion str'].str.replace('%', '').astype(float) / 100\n",
        "  df = df.drop('mention proportion str', axis=1)\n",
        "\n",
        "  # save output\n",
        "  fileName = \"mentionProp\"+datetime.now().strftime(\"%Y-%m-%d %H:%M:%S\")+\".pkl\"\n",
        "\n",
        "  with open(\"/content/drive/MyDrive/Colab Notebooks/MentionProps/\"+fileName, \"wb\") as file:\n",
        "    pickle.dump(df, file)"
      ],
      "metadata": {
        "colab": {
          "base_uri": "https://localhost:8080/"
        },
        "id": "lY5KYjQxGyJh",
        "outputId": "ecd9a9c6-f789-49e4-a3f9-9c002da04153"
      },
      "id": "lY5KYjQxGyJh",
      "execution_count": 45,
      "outputs": [
        {
          "output_type": "stream",
          "name": "stdout",
          "text": [
            "0\n",
            "1\n"
          ]
        }
      ]
    },
    {
      "cell_type": "code",
      "source": [
        "print(res)"
      ],
      "metadata": {
        "colab": {
          "base_uri": "https://localhost:8080/"
        },
        "id": "jp5iUrfMIZBc",
        "outputId": "a7061852-348c-4248-bc60-3f12615694df"
      },
      "id": "jp5iUrfMIZBc",
      "execution_count": 46,
      "outputs": [
        {
          "output_type": "stream",
          "name": "stdout",
          "text": [
            "Based on the list of words and phrases provided, here is an estimate of the frequency of customer mention for each category, ranked from highest to lowest:\n",
            "\n",
            "1. Job boards (10%)\n",
            "2. Applicant tracking systems (ATS) (8%)\n",
            "3. Recruitment process outsourcing (RPO) (7%)\n",
            "4. Candidate experience (6%)\n",
            "5. Employer branding (5%)\n",
            "6. Social media recruiting (4%)\n",
            "7. Employee referrals (4%)\n",
            "8. Recruitment analytics (3%)\n",
            "9. Job fairs (3%)\n",
            "10. Diversity and inclusion (3%)\n",
            "11. Talent acquisition strategy (3%)\n",
            "12. Onboarding (2%)\n",
            "13. Recruitment budget (2%)\n",
            "14. Recruitment software (2%)\n",
            "15. Employee retention (2%)\n",
            "16. Background checks (2%)\n",
            "17. Employer value proposition (EVP) (2%)\n",
            "18. Remote hiring (2%)\n",
            "19. Recruitment advertising (2%)\n",
            "20. Interviews (2%)\n",
            "21. Human resources (HR) (2%)\n",
            "22. Recruitment conversion rate optimization (2%)\n",
            "23. Recruitment conversion funnel (2%)\n",
            "24. Recruitment conversion tracking (2%)\n",
            "25. Recruitment conversion rate testing (2%)\n",
            "26. Recruitment conversion rate tracking (2%)\n",
            "27. Recruitment conversion analysis (2%)\n",
            "28. LinkedIn (2%)\n",
            "29. Job descriptions (2%)\n",
            "30. Recruitment branding (2%)\n",
            "31. Networking events (2%)\n",
            "32. Talent management (2%)\n",
            "33. Recruitment chatbots (2%)\n",
            "34. Greenhouse (2%)\n",
            "35. Recruitment metrics (2%)\n",
            "36. Employer of choice (2%)\n",
            "37. Hiring managers (2%)\n",
            "38. Recruitment training (2%)\n",
            "39. Reference checks (2%)\n",
            "40. Inclusive hiring (2%)\n",
            "41. Recruitment best practices (2%)\n",
            "42. Employer-employee relationship (2%)\n",
            "43. Recruitment automation (2%)\n",
            "44. Internship programs (2%)\n",
            "45. Succession planning (2%)\n",
            "46. Diversity recruiting (2%)\n",
            "47. Job posting (2%)\n",
            "48. Workforce planning (2%)\n",
            "49. Recruitment ROI (2%)\n",
            "50. Employee engagement (2%)\n",
            "51. Recruitment events (2%)\n",
            "52. Job offer letters (2%)\n",
            "53. Recruitment trends (2%)\n",
            "54. Resumes/CVs (2%)\n",
            "55. Campus recruiting (2%)\n",
            "56. Recruitment CRM (2%)\n",
            "57. Drug testing (2%)\n",
            "58. Pre-employment assessments (2%)\n",
            "59. Recruitment challenges (2%)\n",
            "60. CareerBuilder (2%)\n",
            "61. Job design (2%)\n",
            "62. Compensation packages (2%)\n",
            "63. Freelance hiring (2%)\n",
            "64. Employee benefits (2%)\n",
            "65. Talent pipeline (2%)\n",
            "66. Job satisfaction (2%)\n",
            "67. Glassdoor (2%)\n",
            "68. Recruitment data privacy and security (2%)\n",
            "69. Recruitment funnel (2%)\n",
            "70. Job evaluation (2%)\n",
            "71. ZipRecruiter (2%)\n",
            "72. Salary negotiations (2%)\n",
            "73. Recruitment AI (2%)\n",
            "74. Monster (2%)\n",
            "75. Lever (2%)\n",
            "76. Gig economy (2%)\n",
            "77. Skills gap (2%)\n",
            "78. Workable (2%)\n",
            "79. Jobvite (2%)\n",
            "80. ATS integrations (2%)\n",
            "81. Candidate sourcing (2%)\n",
            "82. Hired (2%)\n",
            "83. Staffing agencies (2%)\n",
            "84. Employer reviews (2%)\n",
            "85. Recruitment communication (2%)\n",
            "86. Indeed (2%)\n",
            "87. Talent acquisition technology (2%)\n",
            "88. Recruitment marketing (2%)\n",
            "89. Talent shortage (2%)\n",
            "\n",
            "Please note that these estimates are based on the given list of words and phrases and may not be representative of all customer mentions related to talent acquisition or hiring.\n"
          ]
        }
      ]
    },
    {
      "cell_type": "code",
      "source": [
        "display(df)"
      ],
      "metadata": {
        "colab": {
          "base_uri": "https://localhost:8080/",
          "height": 423
        },
        "id": "vHpnGzXwL8Q5",
        "outputId": "873d104d-f32d-4b7a-e008-b989fcdf3771"
      },
      "id": "vHpnGzXwL8Q5",
      "execution_count": 47,
      "outputs": [
        {
          "output_type": "display_data",
          "data": {
            "text/plain": [
              "                                 category  mention proportion\n",
              "0                              Job boards                0.10\n",
              "1        Applicant tracking systems (ATS)                0.08\n",
              "2   Recruitment process outsourcing (RPO)                0.07\n",
              "3                    Candidate experience                0.06\n",
              "4                       Employer branding                0.05\n",
              "..                                    ...                 ...\n",
              "84              Recruitment communication                0.02\n",
              "85                                 Indeed                0.02\n",
              "86          Talent acquisition technology                0.02\n",
              "87                  Recruitment marketing                0.02\n",
              "88                        Talent shortage                0.02\n",
              "\n",
              "[89 rows x 2 columns]"
            ],
            "text/html": [
              "\n",
              "  <div id=\"df-ff6e650a-c9f4-46f3-ae2d-2dac8c248a67\">\n",
              "    <div class=\"colab-df-container\">\n",
              "      <div>\n",
              "<style scoped>\n",
              "    .dataframe tbody tr th:only-of-type {\n",
              "        vertical-align: middle;\n",
              "    }\n",
              "\n",
              "    .dataframe tbody tr th {\n",
              "        vertical-align: top;\n",
              "    }\n",
              "\n",
              "    .dataframe thead th {\n",
              "        text-align: right;\n",
              "    }\n",
              "</style>\n",
              "<table border=\"1\" class=\"dataframe\">\n",
              "  <thead>\n",
              "    <tr style=\"text-align: right;\">\n",
              "      <th></th>\n",
              "      <th>category</th>\n",
              "      <th>mention proportion</th>\n",
              "    </tr>\n",
              "  </thead>\n",
              "  <tbody>\n",
              "    <tr>\n",
              "      <th>0</th>\n",
              "      <td>Job boards</td>\n",
              "      <td>0.10</td>\n",
              "    </tr>\n",
              "    <tr>\n",
              "      <th>1</th>\n",
              "      <td>Applicant tracking systems (ATS)</td>\n",
              "      <td>0.08</td>\n",
              "    </tr>\n",
              "    <tr>\n",
              "      <th>2</th>\n",
              "      <td>Recruitment process outsourcing (RPO)</td>\n",
              "      <td>0.07</td>\n",
              "    </tr>\n",
              "    <tr>\n",
              "      <th>3</th>\n",
              "      <td>Candidate experience</td>\n",
              "      <td>0.06</td>\n",
              "    </tr>\n",
              "    <tr>\n",
              "      <th>4</th>\n",
              "      <td>Employer branding</td>\n",
              "      <td>0.05</td>\n",
              "    </tr>\n",
              "    <tr>\n",
              "      <th>...</th>\n",
              "      <td>...</td>\n",
              "      <td>...</td>\n",
              "    </tr>\n",
              "    <tr>\n",
              "      <th>84</th>\n",
              "      <td>Recruitment communication</td>\n",
              "      <td>0.02</td>\n",
              "    </tr>\n",
              "    <tr>\n",
              "      <th>85</th>\n",
              "      <td>Indeed</td>\n",
              "      <td>0.02</td>\n",
              "    </tr>\n",
              "    <tr>\n",
              "      <th>86</th>\n",
              "      <td>Talent acquisition technology</td>\n",
              "      <td>0.02</td>\n",
              "    </tr>\n",
              "    <tr>\n",
              "      <th>87</th>\n",
              "      <td>Recruitment marketing</td>\n",
              "      <td>0.02</td>\n",
              "    </tr>\n",
              "    <tr>\n",
              "      <th>88</th>\n",
              "      <td>Talent shortage</td>\n",
              "      <td>0.02</td>\n",
              "    </tr>\n",
              "  </tbody>\n",
              "</table>\n",
              "<p>89 rows × 2 columns</p>\n",
              "</div>\n",
              "      <button class=\"colab-df-convert\" onclick=\"convertToInteractive('df-ff6e650a-c9f4-46f3-ae2d-2dac8c248a67')\"\n",
              "              title=\"Convert this dataframe to an interactive table.\"\n",
              "              style=\"display:none;\">\n",
              "        \n",
              "  <svg xmlns=\"http://www.w3.org/2000/svg\" height=\"24px\"viewBox=\"0 0 24 24\"\n",
              "       width=\"24px\">\n",
              "    <path d=\"M0 0h24v24H0V0z\" fill=\"none\"/>\n",
              "    <path d=\"M18.56 5.44l.94 2.06.94-2.06 2.06-.94-2.06-.94-.94-2.06-.94 2.06-2.06.94zm-11 1L8.5 8.5l.94-2.06 2.06-.94-2.06-.94L8.5 2.5l-.94 2.06-2.06.94zm10 10l.94 2.06.94-2.06 2.06-.94-2.06-.94-.94-2.06-.94 2.06-2.06.94z\"/><path d=\"M17.41 7.96l-1.37-1.37c-.4-.4-.92-.59-1.43-.59-.52 0-1.04.2-1.43.59L10.3 9.45l-7.72 7.72c-.78.78-.78 2.05 0 2.83L4 21.41c.39.39.9.59 1.41.59.51 0 1.02-.2 1.41-.59l7.78-7.78 2.81-2.81c.8-.78.8-2.07 0-2.86zM5.41 20L4 18.59l7.72-7.72 1.47 1.35L5.41 20z\"/>\n",
              "  </svg>\n",
              "      </button>\n",
              "      \n",
              "  <style>\n",
              "    .colab-df-container {\n",
              "      display:flex;\n",
              "      flex-wrap:wrap;\n",
              "      gap: 12px;\n",
              "    }\n",
              "\n",
              "    .colab-df-convert {\n",
              "      background-color: #E8F0FE;\n",
              "      border: none;\n",
              "      border-radius: 50%;\n",
              "      cursor: pointer;\n",
              "      display: none;\n",
              "      fill: #1967D2;\n",
              "      height: 32px;\n",
              "      padding: 0 0 0 0;\n",
              "      width: 32px;\n",
              "    }\n",
              "\n",
              "    .colab-df-convert:hover {\n",
              "      background-color: #E2EBFA;\n",
              "      box-shadow: 0px 1px 2px rgba(60, 64, 67, 0.3), 0px 1px 3px 1px rgba(60, 64, 67, 0.15);\n",
              "      fill: #174EA6;\n",
              "    }\n",
              "\n",
              "    [theme=dark] .colab-df-convert {\n",
              "      background-color: #3B4455;\n",
              "      fill: #D2E3FC;\n",
              "    }\n",
              "\n",
              "    [theme=dark] .colab-df-convert:hover {\n",
              "      background-color: #434B5C;\n",
              "      box-shadow: 0px 1px 3px 1px rgba(0, 0, 0, 0.15);\n",
              "      filter: drop-shadow(0px 1px 2px rgba(0, 0, 0, 0.3));\n",
              "      fill: #FFFFFF;\n",
              "    }\n",
              "  </style>\n",
              "\n",
              "      <script>\n",
              "        const buttonEl =\n",
              "          document.querySelector('#df-ff6e650a-c9f4-46f3-ae2d-2dac8c248a67 button.colab-df-convert');\n",
              "        buttonEl.style.display =\n",
              "          google.colab.kernel.accessAllowed ? 'block' : 'none';\n",
              "\n",
              "        async function convertToInteractive(key) {\n",
              "          const element = document.querySelector('#df-ff6e650a-c9f4-46f3-ae2d-2dac8c248a67');\n",
              "          const dataTable =\n",
              "            await google.colab.kernel.invokeFunction('convertToInteractive',\n",
              "                                                     [key], {});\n",
              "          if (!dataTable) return;\n",
              "\n",
              "          const docLinkHtml = 'Like what you see? Visit the ' +\n",
              "            '<a target=\"_blank\" href=https://colab.research.google.com/notebooks/data_table.ipynb>data table notebook</a>'\n",
              "            + ' to learn more about interactive tables.';\n",
              "          element.innerHTML = '';\n",
              "          dataTable['output_type'] = 'display_data';\n",
              "          await google.colab.output.renderOutput(dataTable, element);\n",
              "          const docLink = document.createElement('div');\n",
              "          docLink.innerHTML = docLinkHtml;\n",
              "          element.appendChild(docLink);\n",
              "        }\n",
              "      </script>\n",
              "    </div>\n",
              "  </div>\n",
              "  "
            ]
          },
          "metadata": {}
        }
      ]
    },
    {
      "cell_type": "markdown",
      "source": [
        "## Step 4: Comentions of phrases"
      ],
      "metadata": {
        "id": "sClLIEFAPxlA"
      },
      "id": "sClLIEFAPxlA"
    },
    {
      "cell_type": "code",
      "source": [
        "prompt6 = f\"\"\" Review the list of words and phrases below and determine which \\\n",
        "of these get frequently mentioned together in a sentence or paragraph. \\\n",
        "Please list the words and phrases that get mentioned together with other words \\\n",
        "and phrases from the same list. Please estimate the proportion of phrase \\\n",
        "comentions and add in parentheses. Let's' try and provide the best estimate \\\n",
        "possible.\n",
        "\n",
        "LIST OF WORDS AND PHRASES: {catList}\n",
        "\n",
        "OUTPUT FORMAT: \n",
        "1. Phrase1 mentioned with Phrase2 (comention proportion %)\n",
        "1. Phrase3 mentioned with Phrase4 (comention proportion %)\n",
        "etc\n",
        "\"\"\""
      ],
      "metadata": {
        "id": "nIBCBueoPQmC"
      },
      "id": "nIBCBueoPQmC",
      "execution_count": 51,
      "outputs": []
    },
    {
      "cell_type": "code",
      "source": [
        "messages = [{\"role\": \"system\", \"content\": \"you are an AI assistant who helps a \\\n",
        "  human to understand what the associations are with a category.\"},\n",
        "              {\"role\": \"user\", \"content\": prompt6}]\n",
        "res = get_completion_chat(messages, .15)\n",
        "messages.append({\"role\": \"assistant\", \"content\": res})\n",
        "print(res)"
      ],
      "metadata": {
        "colab": {
          "base_uri": "https://localhost:8080/"
        },
        "id": "V2tMC8DgQBv5",
        "outputId": "c6d68bdb-3dd7-475d-d3c3-d737fd31de71"
      },
      "id": "V2tMC8DgQBv5",
      "execution_count": 52,
      "outputs": [
        {
          "output_type": "stream",
          "name": "stdout",
          "text": [
            "1. Recruitment conversion rate optimization and Recruitment conversion rate improvement mentioned together (100%)\n",
            "2. Recruitment conversion rate testing and Recruitment conversion testing mentioned together (100%)\n",
            "3. Recruitment conversion rate tracking and Recruitment conversion tracking mentioned together (100%)\n",
            "4. Recruitment conversion analysis and Recruitment conversion rate analysis mentioned together (100%)\n",
            "5. Job descriptions mentioned with Recruitment branding (50%)\n",
            "6. Recruitment conversion funnel mentioned with Recruitment metrics (50%)\n",
            "7. Talent management mentioned with Succession planning (50%)\n",
            "8. Recruitment chatbots mentioned with Recruitment automation (50%)\n",
            "9. Job market mentioned with Recruitment trends (50%)\n",
            "10. Employer of choice mentioned with Employee engagement (50%)\n",
            "11. Recruitment process outsourcing (RPO) mentioned with Staffing agencies (50%)\n",
            "12. Inclusive hiring mentioned with Diversity and inclusion (100%)\n",
            "13. Job boards mentioned with Social media recruiting (50%)\n",
            "14. Recruitment best practices mentioned with Recruitment strategies (50%)\n",
            "15. Employer-employee relationship mentioned with Employee retention (50%)\n",
            "16. Internship programs mentioned with Campus recruiting (50%)\n",
            "17. Applicant tracking systems (ATS) mentioned with ATS integrations (50%)\n",
            "18. Diversity and inclusion mentioned with Diversity recruiting (100%)\n",
            "19. Recruitment conversion optimization mentioned with Recruitment conversion rate (50%)\n",
            "20. Employee benefits mentioned with Remote hiring (50%)\n",
            "21. Recruitment analytics mentioned with Recruitment data privacy and security (50%)\n",
            "22. Recruitment funnel mentioned with Recruitment marketing (50%)\n",
            "23. Job evaluation mentioned with Salary negotiations (50%)\n",
            "24. Recruitment budget mentioned with Recruitment ROI (50%)\n",
            "25. Recruitment AI mentioned with Talent acquisition technology (50%)\n",
            "26. Job posting mentioned with Recruitment advertising (50%)\n",
            "27. Employer value proposition (EVP) mentioned with Employer branding (50%)\n",
            "28. Indeed mentioned with ZipRecruiter (50%)\n",
            "29. Recruitment communication mentioned with Interviews (50%)\n",
            "30. Gig economy mentioned with Freelance hiring (50%)\n",
            "31. Skills gap mentioned with Talent shortage (50%)\n",
            "\n",
            "Note: The comention proportion is an estimate based on the given list of words and phrases and may vary in actual usage.\n"
          ]
        }
      ]
    },
    {
      "cell_type": "code",
      "source": [],
      "metadata": {
        "id": "Y0X_ZbGQQcly"
      },
      "id": "Y0X_ZbGQQcly",
      "execution_count": null,
      "outputs": []
    }
  ],
  "metadata": {
    "kernelspec": {
      "display_name": "Python 3 (ipykernel)",
      "language": "python",
      "name": "python3"
    },
    "language_info": {
      "codemirror_mode": {
        "name": "ipython",
        "version": 3
      },
      "file_extension": ".py",
      "mimetype": "text/x-python",
      "name": "python",
      "nbconvert_exporter": "python",
      "pygments_lexer": "ipython3",
      "version": "3.8.16"
    },
    "colab": {
      "provenance": [],
      "include_colab_link": true
    }
  },
  "nbformat": 4,
  "nbformat_minor": 5
}